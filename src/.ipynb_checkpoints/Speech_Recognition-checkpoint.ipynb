{
 "cells": [
  {
   "cell_type": "markdown",
   "id": "b4162e26",
   "metadata": {},
   "source": [
    "# 1. Import libraries"
   ]
  },
  {
   "cell_type": "code",
   "execution_count": 1,
   "id": "b93fd2c8",
   "metadata": {},
   "outputs": [],
   "source": [
    "import speech_recognition as sr\n",
    "import cv2\n",
    "from tkinter import NW, Tk, Canvas, PhotoImage, Button, Frame,Label\n",
    "import time\n",
    "from PIL import Image, ImageTk"
   ]
  },
  {
   "cell_type": "markdown",
   "id": "91b0ea07",
   "metadata": {},
   "source": [
    "# 2. Defining recognizer & microphone instance"
   ]
  },
  {
   "cell_type": "code",
   "execution_count": 2,
   "id": "2344843c",
   "metadata": {},
   "outputs": [],
   "source": [
    "recognizer = sr.Recognizer()\n",
    "microphone = sr.Microphone()"
   ]
  },
  {
   "cell_type": "markdown",
   "id": "4bf170c8",
   "metadata": {},
   "source": [
    "# 3. Creating text in canvas"
   ]
  },
  {
   "cell_type": "code",
   "execution_count": 3,
   "id": "336790b7",
   "metadata": {},
   "outputs": [],
   "source": [
    "def set_text_canvas(message):\n",
    "    text_canvas.delete(\"all\")\n",
    "    text_canvas.create_text(320, 20, text=message, fill=\"#000\", font=('Helvetica 15 bold'))"
   ]
  },
  {
   "cell_type": "code",
   "execution_count": 4,
   "id": "f7e16f49",
   "metadata": {},
   "outputs": [],
   "source": [
    "def set_panel_canvas(message):\n",
    "    panel_canvas.create_text(320, 50, text=message, fill=\"#000\", font=('Helvetica 15 bold'))"
   ]
  },
  {
   "cell_type": "markdown",
   "id": "588e3cb3",
   "metadata": {},
   "source": [
    "# 4. Convert image to photoImage"
   ]
  },
  {
   "cell_type": "code",
   "execution_count": 5,
   "id": "74162307",
   "metadata": {},
   "outputs": [],
   "source": [
    "def get_photo_image(image):\n",
    "    cv2image = cv2.cvtColor(image, cv2.COLOR_BGR2RGB)\n",
    "    img = Image.fromarray(cv2image)\n",
    "    resized_image= img.resize((170,250), Image.ANTIALIAS)\n",
    "    imgtk = ImageTk.PhotoImage(image = resized_image)\n",
    "    return imgtk"
   ]
  },
  {
   "cell_type": "markdown",
   "id": "c6011f59",
   "metadata": {},
   "source": [
    "# 5. Fetch gesture from dataset to preview"
   ]
  },
  {
   "cell_type": "code",
   "execution_count": 6,
   "id": "63b94d57",
   "metadata": {},
   "outputs": [],
   "source": [
    "def get_gesture_image(endpoint):\n",
    "    path = r'..\\\\data\\\\DataForSpeech\\\\' + endpoint + \".jpg\"\n",
    "    font = cv2.FONT_HERSHEY_SIMPLEX\n",
    "    org = (50, 50)\n",
    "    fontScale = 1\n",
    "    color = (255, 255, 255)\n",
    "    thickness = 2\n",
    "    \n",
    "    while True:\n",
    "        img = cv2.imread(path)\n",
    "        image = cv2.resize(img, (300, 300))\n",
    "        cv2.putText(image, endpoint, org, font, fontScale, color, thickness, cv2.LINE_AA)\n",
    "        cv2.imshow('Gesture', image)\n",
    "        \n",
    "        code = cv2.waitKey(0)\n",
    "        if code == ord('q'):\n",
    "            break\n",
    "            \n",
    "        if cv2.getWindowProperty(\"Gesture\", cv2.WND_PROP_VISIBLE) <1:\n",
    "            break\n",
    "\n",
    "    cv2.destroyAllWindows()"
   ]
  },
  {
   "cell_type": "markdown",
   "id": "4eaaa195",
   "metadata": {},
   "source": [
    "# 6.1. Reognize speech from microphone: method 1"
   ]
  },
  {
   "cell_type": "code",
   "execution_count": 7,
   "id": "70e6b6b8",
   "metadata": {},
   "outputs": [],
   "source": [
    "def recognize_speech_from_microphone():\n",
    "    if not isinstance(recognizer, sr.Recognizer):\n",
    "        raise TypeError(\"`recognizer` must be `Recognizer` instance\")\n",
    "\n",
    "    if not isinstance(microphone, sr.Microphone):\n",
    "        raise TypeError(\"`microphone` must be `Microphone` instance\")\n",
    "\n",
    "    with microphone as source:\n",
    "        recognizer.adjust_for_ambient_noise(source)\n",
    "        audio = recognizer.listen(source)\n",
    "\n",
    "    response = {\n",
    "        \"success\": True,\n",
    "        \"error\": None,\n",
    "        \"transcription\": None\n",
    "    }\n",
    "\n",
    "    try:\n",
    "        response[\"transcription\"] = recognizer.recognize_google(audio)\n",
    "    except sr.RequestError:\n",
    "        response[\"transcription\"] = None\n",
    "        response[\"success\"] = False\n",
    "        response[\"error\"] = \"API unavailable\"\n",
    "    except sr.UnknownValueError:\n",
    "        response[\"transcription\"] = None\n",
    "        response[\"error\"] = \"Unable to recognize speech\"\n",
    "\n",
    "    return response"
   ]
  },
  {
   "cell_type": "markdown",
   "id": "01d78c87",
   "metadata": {},
   "source": [
    "# 6.2. Reognize speech from microphone: method 2"
   ]
  },
  {
   "cell_type": "code",
   "execution_count": 8,
   "id": "1ed373ec",
   "metadata": {},
   "outputs": [],
   "source": [
    "def recognize_speech():\n",
    "    with microphone as source:\n",
    "        recognizer.adjust_for_ambient_noise(source)\n",
    "        audio = recognizer.listen(source)\n",
    "    \n",
    "    response = {\n",
    "        \"success\": True,\n",
    "        \"error\": None,\n",
    "        \"transcription\": None\n",
    "    }\n",
    "\n",
    "    try:\n",
    "        response[\"transcription\"] = recognizer.recognize_google(audio)\n",
    "    except Exception as e:\n",
    "        response[\"success\"] = False\n",
    "        response[\"transcription\"] = None\n",
    "        response[\"error\"] = \"Unable to recognize speech\"\n",
    "        \n",
    "    return response"
   ]
  },
  {
   "cell_type": "markdown",
   "id": "794c8e7f",
   "metadata": {},
   "source": [
    "# 7. Speech Recognition"
   ]
  },
  {
   "cell_type": "code",
   "execution_count": 9,
   "id": "0394f172",
   "metadata": {},
   "outputs": [],
   "source": [
    "root = Tk()\n",
    "root.title(\"Speech Recognition\")\n",
    "root.geometry(\"640x500\")\n",
    "cam = cv2.VideoCapture(0)\n",
    "\n",
    "micImagePath = r'..\\\\assets\\\\microphone.jpg'\n",
    "\n",
    "def close():\n",
    "    root.destroy()\n",
    "    \n",
    "def start():\n",
    "    set_text_canvas(\"PLEASE SAY SOMETHING!\")\n",
    "    response = recognize_speech()\n",
    "    transcription = response[\"transcription\"]\n",
    "    if transcription:\n",
    "        set_text_canvas(\"YOU SAID: {}\".format(transcription).upper())\n",
    "        get_gesture_image(transcription.upper())\n",
    "    if not response[\"success\"]:\n",
    "        set_text_canvas(\"I DIDN'T CATCH THAT. WHAT DID YOU SAY?\")\n",
    "    if response[\"error\"]:\n",
    "        set_text_canvas(\"ERROR: {}\".format(response[\"error\"]))\n",
    "\n",
    "\n",
    "panelFrame = Frame(root)\n",
    "panelFrame.pack(side=\"top\")\n",
    "panelFrame.configure(bg=\"white\")\n",
    "\n",
    "panel_canvas = Canvas(panelFrame, width=640, height=100)\n",
    "panel_canvas.pack(side=\"top\")\n",
    "\n",
    "text_canvas = Canvas(panelFrame, width=640, height=100)\n",
    "text_canvas.pack(side=\"bottom\", pady=10)\n",
    "\n",
    "panel = Label(panelFrame, width = 640, height = 200)\n",
    "panel.pack(side=\"bottom\", padx=10)\n",
    "\n",
    "set_panel_canvas(\"USE YOUR MICROPHONE TO TELL SOMETHING!\")\n",
    "\n",
    "microPhoneImage = cv2.imread(micImagePath)\n",
    "imgtk = get_photo_image(microPhoneImage)\n",
    "panel.imgtk = imgtk\n",
    "panel.configure(image=imgtk)\n",
    "\n",
    "set_text_canvas(\"CLICK TO START. LET'S BEGIN !\")\n",
    "\n",
    "frame = Frame(root)\n",
    "frame.pack(side=\"bottom\")\n",
    "\n",
    "cancel = Button(frame, text=\"QUIT\", command=close, bg = \"#C0392B\", relief = \"groove\", fg = \"#fff\", bd = 0, width = 20, font=('Helvetica 10 bold'))\n",
    "cancel.pack(side=\"left\",fill=\"both\", expand=\"no\", padx=\"10\", pady=\"10\")\n",
    "\n",
    "start = Button(frame, text=\"START\", command=start, bg = \"#76D7C4\", relief = \"groove\", fg = \"#fff\", bd = 0, width = 80, font=('Helvetica 10 bold'))\n",
    "start.pack(side=\"right\", fill=\"both\", expand=\"no\", padx=\"10\", pady=\"10\")\n",
    "\n",
    "root.mainloop()\n",
    "cam.release()\n",
    "cv2.destroyAllWindows()"
   ]
  }
 ],
 "metadata": {
  "kernelspec": {
   "display_name": "Python 3",
   "language": "python",
   "name": "python3"
  },
  "language_info": {
   "codemirror_mode": {
    "name": "ipython",
    "version": 3
   },
   "file_extension": ".py",
   "mimetype": "text/x-python",
   "name": "python",
   "nbconvert_exporter": "python",
   "pygments_lexer": "ipython3",
   "version": "3.8.8"
  }
 },
 "nbformat": 4,
 "nbformat_minor": 5
}
