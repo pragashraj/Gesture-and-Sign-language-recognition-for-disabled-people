{
 "cells": [
  {
   "cell_type": "code",
   "execution_count": 1,
   "id": "b93fd2c8",
   "metadata": {},
   "outputs": [],
   "source": [
    "import speech_recognition as sr"
   ]
  },
  {
   "cell_type": "code",
   "execution_count": 2,
   "id": "2344843c",
   "metadata": {},
   "outputs": [],
   "source": [
    "recognizer = sr.Recognizer()"
   ]
  },
  {
   "cell_type": "code",
   "execution_count": 3,
   "id": "2b56bba9",
   "metadata": {},
   "outputs": [],
   "source": [
    "helloAudio = sr.AudioFile(r'E:\\Projects\\Research project\\Gesture and Sign language recognition for disabled and impaired people\\Dataset\\hello.wav')\n",
    "with helloAudio as source:\n",
    "    audio = recognizer.record(source)"
   ]
  },
  {
   "cell_type": "code",
   "execution_count": 4,
   "id": "fb181de7",
   "metadata": {},
   "outputs": [
    {
     "data": {
      "text/plain": [
       "speech_recognition.AudioData"
      ]
     },
     "execution_count": 4,
     "metadata": {},
     "output_type": "execute_result"
    }
   ],
   "source": [
    "type(audio)"
   ]
  },
  {
   "cell_type": "code",
   "execution_count": 5,
   "id": "5345c7b4",
   "metadata": {},
   "outputs": [
    {
     "data": {
      "text/plain": [
       "'hello'"
      ]
     },
     "execution_count": 5,
     "metadata": {},
     "output_type": "execute_result"
    }
   ],
   "source": [
    "recognizer.recognize_google(audio)"
   ]
  },
  {
   "cell_type": "code",
   "execution_count": 6,
   "id": "a15b178d",
   "metadata": {},
   "outputs": [],
   "source": [
    "microphone = sr.Microphone()"
   ]
  },
  {
   "cell_type": "code",
   "execution_count": 8,
   "id": "78978464",
   "metadata": {},
   "outputs": [
    {
     "name": "stdout",
     "output_type": "stream",
     "text": [
      "Please Say something:\n",
      "You said: \n",
      "hello\n"
     ]
    }
   ],
   "source": [
    "with microphone as source:\n",
    "    recording.adjust_for_ambient_noise(source)\n",
    "    print(\"Please Say something:\")\n",
    "    audio = recognizer.listen(source)\n",
    "    \n",
    "try:\n",
    "    print(\"You said: \\n\" + recording.recognize_google(audio))\n",
    "except Exception as e:\n",
    "    print(e)"
   ]
  }
 ],
 "metadata": {
  "kernelspec": {
   "display_name": "Python 3",
   "language": "python",
   "name": "python3"
  },
  "language_info": {
   "codemirror_mode": {
    "name": "ipython",
    "version": 3
   },
   "file_extension": ".py",
   "mimetype": "text/x-python",
   "name": "python",
   "nbconvert_exporter": "python",
   "pygments_lexer": "ipython3",
   "version": "3.8.8"
  }
 },
 "nbformat": 4,
 "nbformat_minor": 5
}
