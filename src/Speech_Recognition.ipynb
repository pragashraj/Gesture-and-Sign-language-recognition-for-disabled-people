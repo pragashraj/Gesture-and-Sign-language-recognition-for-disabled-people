{
 "cells": [
  {
   "cell_type": "code",
   "execution_count": 1,
   "id": "b93fd2c8",
   "metadata": {},
   "outputs": [],
   "source": [
    "import speech_recognition as sr\n",
    "import cv2\n",
    "from tkinter import NW, Tk, Canvas, PhotoImage, Button, Frame\n",
    "import time"
   ]
  },
  {
   "cell_type": "code",
   "execution_count": 2,
   "id": "2344843c",
   "metadata": {},
   "outputs": [],
   "source": [
    "recognizer = sr.Recognizer()\n",
    "microphone = sr.Microphone()"
   ]
  },
  {
   "cell_type": "code",
   "execution_count": null,
   "id": "a51653ee",
   "metadata": {},
   "outputs": [],
   "source": [
    "def set_text_canvas(message):\n",
    "    text_canvas.delete(\"all\")\n",
    "    text_canvas.create_text(320, 20, text=message, fill=\"#000\", font=('Helvetica 15 bold'))\n",
    "    text_canvas.pack(side=\"bottom\")"
   ]
  },
  {
   "cell_type": "code",
   "execution_count": null,
   "id": "81ea967d",
   "metadata": {},
   "outputs": [],
   "source": [
    "def set_panel_canvas(mesage):\n",
    "    panel_canvas.create_text(320, 50, text=message, fill=\"#fff\", font=('Helvetica 15 bold'))\n",
    "    panel_canvas.pack(side=\"top\")"
   ]
  },
  {
   "cell_type": "code",
   "execution_count": 1,
   "id": "967c08be",
   "metadata": {},
   "outputs": [],
   "source": [
    "def recognize_speech_from_microphone():\n",
    "    if not isinstance(recognizer, sr.Recognizer):\n",
    "        raise TypeError(\"`recognizer` must be `Recognizer` instance\")\n",
    "\n",
    "    if not isinstance(microphone, sr.Microphone):\n",
    "        raise TypeError(\"`microphone` must be `Microphone` instance\")\n",
    "\n",
    "    with microphone as source:\n",
    "        recognizer.adjust_for_ambient_noise(source)\n",
    "        set_text_canvas(\"PLEASE SAY SOMETHING!\")\n",
    "        audio = recognizer.listen(source)\n",
    "\n",
    "    response = {\n",
    "        \"success\": True,\n",
    "        \"error\": None,\n",
    "        \"transcription\": None\n",
    "    }\n",
    "\n",
    "    try:\n",
    "        response[\"transcription\"] = recognizer.recognize_google(audio)\n",
    "    except sr.RequestError:\n",
    "        response[\"transcription\"] = None\n",
    "        response[\"success\"] = False\n",
    "        response[\"error\"] = \"API unavailable\"\n",
    "    except sr.UnknownValueError:\n",
    "        response[\"transcription\"] = None\n",
    "        response[\"error\"] = \"Unable to recognize speech\"\n",
    "\n",
    "    return response"
   ]
  },
  {
   "cell_type": "code",
   "execution_count": null,
   "id": "c2c7e407",
   "metadata": {},
   "outputs": [],
   "source": [
    "root = Tk()\n",
    "root.title(\"Speech Recognition\")\n",
    "root.geometry(\"640x500\")\n",
    "cam = cv2.VideoCapture(0)\n",
    "\n",
    "def close():\n",
    "    root.destroy()\n",
    "    \n",
    "def start():\n",
    "    set_panel_canvas(\"USE YOUR MICROPHONE TO TELL SOMETHING!\")\n",
    "    time.sleep(3)\n",
    "    set_panel_canvas(\"CLICK START. LET'S BEGIN\")\n",
    "    time.sleep(2)\n",
    "    response = recognize_speech_from_microphone()\n",
    "    if response[\"transcription\"]:\n",
    "        set_text_canvas(\"YOU SAID: {}\".format(response[\"transcription\"]))\n",
    "    if not response[\"success\"]:\n",
    "        set_text_canvas(\"I DIDN'T CATCH THAT. WHAT DID YOU SAY?\")\n",
    "    if response[\"error\"]:\n",
    "        set_text_canvas(\"ERROR: {}\".format(guess[\"error\"]))\n",
    "\n",
    "panel_canvas = Canvas(root, width=640, height=400)\n",
    "text_canvas = Canvas(root, width=640, height=70)\n",
    "\n",
    "frame = Frame(root)\n",
    "frame.pack(side=\"bottom\")\n",
    "\n",
    "cancel = Button(frame, text=\"QUIT\", command=close, bg = \"#C0392B\", relief = \"groove\", fg = \"#fff\", bd = 0, width = 20, font=('Helvetica 10 bold'))\n",
    "cancel.pack(side=\"left\",fill=\"both\", expand=\"no\", padx=\"10\", pady=\"10\")\n",
    "\n",
    "start = Button(frame, text=\"START\", command=start, bg = \"#76D7C4\", relief = \"groove\", fg = \"#fff\", bd = 0, width = 80, font=('Helvetica 10 bold'))\n",
    "start.pack(side=\"right\", fill=\"both\", expand=\"no\", padx=\"10\", pady=\"10\")\n",
    "\n",
    "root.mainloop()\n",
    "cam.release()\n",
    "cv2.destroyAllWindows()"
   ]
  }
 ],
 "metadata": {
  "kernelspec": {
   "display_name": "Python 3",
   "language": "python",
   "name": "python3"
  },
  "language_info": {
   "codemirror_mode": {
    "name": "ipython",
    "version": 3
   },
   "file_extension": ".py",
   "mimetype": "text/x-python",
   "name": "python",
   "nbconvert_exporter": "python",
   "pygments_lexer": "ipython3",
   "version": "3.8.8"
  }
 },
 "nbformat": 4,
 "nbformat_minor": 5
}
